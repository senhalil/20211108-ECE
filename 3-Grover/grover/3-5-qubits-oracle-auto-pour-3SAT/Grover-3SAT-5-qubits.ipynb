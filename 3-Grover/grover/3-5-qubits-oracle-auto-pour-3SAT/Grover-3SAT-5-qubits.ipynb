{
 "cells": [
  {
   "cell_type": "markdown",
   "metadata": {},
   "source": [
    "\n",
    "# <center>Hands on lab : Grover with qiskit circuit library : 3SAT </center>\n",
    "\n",
    "### <span style=\"color:blue\"><em>Jean-Michel Torres, IBM Q France, torresjm@fr.ibm.com</em></span>\n",
    "\n",
    "\n",
    "#### 20211102\n"
   ]
  },
  {
   "cell_type": "markdown",
   "metadata": {},
   "source": [
    "## 1. SETUP"
   ]
  },
  {
   "cell_type": "markdown",
   "metadata": {},
   "source": [
    "### General setup\n",
    "\n",
    "\n",
    "The cell below imports the needed function from qiskit and other libraries:\n"
   ]
  },
  {
   "cell_type": "code",
   "execution_count": null,
   "metadata": {},
   "outputs": [],
   "source": [
    "from qiskit import qiskit\n",
    "qiskit.__qiskit_version__"
   ]
  },
  {
   "cell_type": "code",
   "execution_count": null,
   "metadata": {},
   "outputs": [],
   "source": [
    "import pylab\n",
    "import numpy as np\n",
    "from qiskit import Aer\n",
    "from qiskit.tools.visualization import plot_histogram"
   ]
  },
  {
   "cell_type": "markdown",
   "metadata": {},
   "source": [
    "## 3-SAT problem"
   ]
  },
  {
   "cell_type": "markdown",
   "metadata": {},
   "source": [
    "Again, let's search for a card in a deck. \n",
    "This time, within a 32 cards deck (7,8,9,10,J,Q,K,A,Spades,Hearts,Diamonds,Clubs). \n",
    "Let's use these booleans to catagorize the cards: \n",
    "<ul>\n",
    "    <li>$x_1$ : the card is a number (7,8,9,10)</li>\n",
    "    <li>$x_2$ : the card is red (Hearts, Diamonds)</li>\n",
    "    <li>$x_3$ : the suit has a sharp edge on top (Spades, Diamonds)</li>\n",
    "    <li>$x_4$ : the card is at odd \"value\"  (7,9,J,K)</li>\n",
    "    <li>$x_5$ : the card is in the \"middle\" values (9,10,J,Q)</li>\n",
    "</ul>\n",
    "\n",
    "With this we can form a logical expression, in the 3-SAT form: \n",
    "\n",
    "$F = (\\neg x_1 \\lor x_2 \\lor \\neg x_3) \\land (\\neg x_1 \\neg \\lor x_2 \\lor x_5) \\land (x_1 \\lor \\neg x_2 \\lor x_4) \\land (x_1 \\lor \\neg x_2 \\lor \\neg x_4) \\land ( x_1 \\lor  x_2 \\lor x_3) ...$\n",
    "\n",
    "$... ( \\neg x_1 \\lor x_2 \\lor x_3) \\land (\\neg x_1 \\lor \\neg x_2 \\lor \\neg x_5) \\land ( x_2 \\lor x_2 \\lor x_4) \\land ( x_2 \\lor \\neg x_4 \\lor  x_5)  \n",
    "$\n",
    "\n",
    "... and use the Grover algorithm to find if a card (and which one) satisfies the expression. \n",
    "\n",
    "\n"
   ]
  },
  {
   "cell_type": "markdown",
   "metadata": {},
   "source": [
    "### The logical expression then stored in a text file using DMACS-CNF format :\n",
    "\n",
    "`c example DIMACS-CNF 3-SAT\n",
    "p cnf 5 9\n",
    "-1  2 -3 0\n",
    "-1 -2  5 0\n",
    " 1 -2  4 0\n",
    " 1 -2 -4 0\n",
    " 1  2  3 0\n",
    "-1  2  3 0\n",
    "-1 -2 -5 0\n",
    " 1  2  4 0\n",
    " 2 -4  5 0\n",
    "`\n",
    "#### each line coresponds to a clause, having 3 variables, \"-\" indicates the variable is False."
   ]
  },
  {
   "cell_type": "code",
   "execution_count": null,
   "metadata": {},
   "outputs": [],
   "source": [
    "from qiskit.circuit.library import PhaseOracle\n",
    "oracle = PhaseOracle.from_dimacs_file('./3sat.dimacs')"
   ]
  },
  {
   "cell_type": "code",
   "execution_count": null,
   "metadata": {},
   "outputs": [],
   "source": [
    "# begin the algo by creating the superposed state\n",
    "from qiskit import QuantumCircuit\n",
    "init = QuantumCircuit(5)\n",
    "\n",
    "# your code here #\n",
    "##################\n",
    "\n",
    "##################\n",
    "\n",
    "init.draw()"
   ]
  },
  {
   "cell_type": "code",
   "execution_count": null,
   "metadata": {},
   "outputs": [],
   "source": [
    "# steps 2 & 3 of Grover's algorithm\n",
    "from qiskit.circuit.library import GroverOperator\n",
    "\n",
    "grover_operator = GroverOperator(oracle)\n",
    "\n",
    "qc = init.compose(grover_operator) \n",
    "\n",
    "qc.measure_all()\n",
    "\n",
    "qc.draw()"
   ]
  },
  {
   "cell_type": "code",
   "execution_count": null,
   "metadata": {},
   "outputs": [],
   "source": [
    "# Simulate the circuit\n",
    "from qiskit import Aer, transpile\n",
    "sim = Aer.get_backend('aer_simulator')\n",
    "\n",
    "t_qc = transpile(qc, sim)\n",
    "\n",
    "execution = sim.run(t_qc)\n",
    "\n",
    "results  = execution.result()\n",
    "\n",
    "counts = results.get_counts()\n",
    "\n",
    "# plot the results\n",
    "from qiskit.visualization import plot_histogram\n",
    "plot_histogram(counts)\n"
   ]
  },
  {
   "cell_type": "code",
   "execution_count": null,
   "metadata": {},
   "outputs": [],
   "source": [
    "# Run on a real backend\n",
    "\n",
    "from qiskit import IBMQ, transpile\n",
    "\n",
    "IBMQ.load_account()\n",
    "\n",
    "sp = IBMQ.get_provider(hub='ibm-q')\n",
    "\n",
    "be = sp.get_backend('ibmq_manila')\n",
    "\n",
    "t_qc = transpile(qc, be)\n",
    "\n",
    "execution = be.run(t_qc)\n",
    "\n",
    "results  = execution.result()\n",
    "\n",
    "counts = results.get_counts()\n",
    "\n",
    "# plot the results\n",
    "from qiskit.visualization import plot_histogram\n",
    "plot_histogram(counts)\n"
   ]
  },
  {
   "cell_type": "markdown",
   "metadata": {},
   "source": [
    "#### So we find 00111. Can you guess what card this is ? "
   ]
  },
  {
   "cell_type": "markdown",
   "metadata": {},
   "source": [
    "## Thank you for your attention\n"
   ]
  }
 ],
 "metadata": {
  "kernelspec": {
   "display_name": "Python 3",
   "language": "python",
   "name": "python3"
  },
  "language_info": {
   "codemirror_mode": {
    "name": "ipython",
    "version": 3
   },
   "file_extension": ".py",
   "mimetype": "text/x-python",
   "name": "python",
   "nbconvert_exporter": "python",
   "pygments_lexer": "ipython3",
   "version": "3.8.10"
  }
 },
 "nbformat": 4,
 "nbformat_minor": 2
}
