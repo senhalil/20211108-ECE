{
 "cells": [
  {
   "cell_type": "markdown",
   "metadata": {},
   "source": [
    "\n",
    "# <center>Hand on lab : Grover 4 elements (2 qubits) with qiskit</center>\n",
    "\n",
    "### <span style=\"color:blue\"><em>Jean-Michel Torres, IBM Quantum France, torresjm@fr.ibm.com</em></span>\n",
    "\n",
    "\n",
    "\n",
    "#### 20211103\n",
    "\n"
   ]
  },
  {
   "cell_type": "markdown",
   "metadata": {},
   "source": [
    "<div class=\"alert alert-block alert-success\">\n",
    "    \n",
    "#  Grover search algorithm\n",
    "</div>\n",
    "\n",
    "Grover search alogrithm finds an element from a non ordered set, faster than any classical algorithm.\n",
    "\n",
    "In other words Grover search algorithm will find an element matching a criteria, out of an unordered list.\n",
    "\n",
    "<img src=\"./images/long_list.jpg\" alt=\"Note: In order for images to show up in this jupyter notebook you need to select File => Trusted Notebook\" width=\"600 px\" align=\"center\">\n",
    "<br>\n",
    "\n",
    "Let's apply to the very tiny example of finding one element out of four, and to relate to an example : let's find where is the Queen of Hearts out of four Queen.\n",
    "This is equivalent to find what index in the list is set to 1 (when others are set to 0).\n",
    "\n",
    "Classical process requires an average of 2.25 tries to find the index value of one element out of four (i.e: find the Queen of hearts hidden amongst four Queen). \n",
    "\n",
    "\n",
    "| draw     | Probability p of finding QH | Quantity q of draw(s) | p x q  |\n",
    "| ----------- | ------------- |-----------------------------------------------| --- |\n",
    "|First | 0.25| 1 | 0.25 |\n",
    "|Second |3/4 not 1rst time * 1/3 at 2nd time =  0.25  | 2 | 0.5 |\n",
    "|Third (1)|3/4 not 1rst time * 2/3 not 2nd time =  0.5  | 3 | 1.5 |\n",
    "|TOTAL   | - |- |2.25|\n",
    "  \n",
    "(1) At this point, wether we draw the Queen of Hearts or not, we know where it is, so this is the final draw, no need for the 4rth draw.\n",
    "\n",
    "On the other hand, in this case, Grover search algorithm can find the Queen of hearts in a single attempt. \n",
    "\n",
    "More generally Grover search algorithm will require a number of attempts proportionnal to square root of N, where N is the set size:\n",
    "\n",
    "\\begin{equation} \n",
    "\\frac{\\pi}{4}{\\sqrt{N}} \n",
    "\\end{equation}\n"
   ]
  },
  {
   "cell_type": "code",
   "execution_count": null,
   "metadata": {},
   "outputs": [],
   "source": [
    "# Classical way: hiding one card at a random position, and then count the attempts before the card is found.\n",
    "from random import randint\n",
    "\n",
    "def hide(n):\n",
    "    ''' this creates a list of n '0', with one '1' at a random position'''\n",
    "    cards = [0 for i in range(n)]  # only 0'\n",
    "    position = randint(0, n-1)     # draw a random position\n",
    "    cards[position] = 1            # this position now has a 1 (others keep 0)\n",
    "    return cards\n",
    "    \n",
    "def find(cards): \n",
    "    n = 0 # initialize attempts needed to find the hidden position\n",
    "    while len(cards) > 1: # when there is one card left, we know it is the hidden position\n",
    "        trial = randint(0,len(cards)-1) # try one position at random\n",
    "        if cards[trial]: \n",
    "            n+=1\n",
    "            break\n",
    "        else:\n",
    "            n+=1\n",
    "            # remove that card from the list\n",
    "            cards = cards[0:trial] + cards[trial+1:len(cards)]\n",
    "    return n\n",
    "\n",
    "# params : lentgh = number of cards face down in the game,\n",
    "#          could be 4, 32, or any\n",
    "# params : draws = quantity of times the experience will\n",
    "#          be made to be able to calculate the average draws \n",
    "#          needed to find the hidden position\n",
    "length = 4\n",
    "draws = 1000\n",
    "\n",
    "# initalize count of shots needed to find hidden position\n",
    "shots = 0\n",
    "for d in range(draws):\n",
    "    cards = hide(length)\n",
    "    shots += find(cards) \n",
    "\n",
    "print(f\"With {length} cards and {draws} experiments:\")\n",
    "print(f\"    the hidden card was found in a average of {shots/draws} draws\")"
   ]
  },
  {
   "cell_type": "markdown",
   "metadata": {},
   "source": [
    "\n",
    "So now, let's go with the quantum computing demo with N=4 (4 cards, 4 positions) \n"
   ]
  },
  {
   "cell_type": "markdown",
   "metadata": {},
   "source": [
    "<div class=\"alert alert-block alert-success\">\n",
    "    \n",
    "#  Grover search algorithm with qiskit circuits\n",
    "</div>"
   ]
  },
  {
   "cell_type": "markdown",
   "metadata": {},
   "source": [
    "## 1. SETUP"
   ]
  },
  {
   "cell_type": "markdown",
   "metadata": {},
   "source": [
    "### General setup\n",
    "\n",
    "\n",
    "The cell below imports the needed function from qiskit and other libraries:\n"
   ]
  },
  {
   "cell_type": "code",
   "execution_count": null,
   "metadata": {},
   "outputs": [],
   "source": [
    "from IPython.display import Image, display\n",
    "from random import randint\n",
    "from qiskit import QuantumRegister, ClassicalRegister, QuantumCircuit, execute\n",
    "\n",
    "print(\"The required objects have been imported from QISKit and other Python libraries\")"
   ]
  },
  {
   "cell_type": "markdown",
   "metadata": {},
   "source": [
    "## 2. What are the 4 oracle we need to mark one of the 4 elements ? \n",
    "\n",
    "We will build the oracles with qiskit circuits\n",
    "\n",
    "They will transformed into 4 custom gates, one of the Oracle (gate) will be randomly chosen, the Grover operator will be added, and we will be able to verify we get the chosen element in one Grover iteration."
   ]
  },
  {
   "cell_type": "markdown",
   "metadata": {},
   "source": [
    "### Pause and try to find the following 2-qubits operators :\n",
    "\n",
    "1. $U_1$ leaves $|01\\rangle$ "
   ]
  },
  {
   "cell_type": "code",
   "execution_count": null,
   "metadata": {},
   "outputs": [],
   "source": [
    "import qiskit\n",
    "qiskit.__qiskit_version__"
   ]
  },
  {
   "cell_type": "code",
   "execution_count": null,
   "metadata": {},
   "outputs": [],
   "source": [
    "sub_qr = QuantumRegister(2)\n",
    "\n",
    "# let's define a list of custom gates, there will be four of them, each one to \"hide\"\n",
    "# the card in of of the four possible positions \n",
    "hide = []\n",
    "# this dummy circuit is just to fill position 0 in the list, so we do not get confused\n",
    "# later witn an ofsset between position and index. \n",
    "dummy = QuantumCircuit(1)\n",
    "hide.append(dummy)\n",
    "\n",
    "# first position marked\n",
    "sub_circ = QuantumCircuit(sub_qr, name='Hide')\n",
    "# Oracle for 00 here\n",
    "\n",
    "\n",
    "\n",
    "\n",
    "hide.append(sub_circ.to_instruction())\n",
    "\n",
    "# second position marked\n",
    "sub_circ = QuantumCircuit(sub_qr, name='Hide')\n",
    "# Oracle for 01 here\n",
    "\n",
    "\n",
    "\n",
    "\n",
    "hide.append(sub_circ.to_instruction())\n",
    "\n",
    "# third position marked\n",
    "sub_circ = QuantumCircuit(sub_qr, name='Hide')\n",
    "# Oracle for 10 here\n",
    "\n",
    "\n",
    "\n",
    "hide.append(sub_circ.to_instruction())\n",
    "\n",
    "# fourth position \n",
    "sub_circ = QuantumCircuit(sub_qr, name='Hide')\n",
    "# Oracle for 11 here :\n",
    "\n",
    "\n",
    "hide.append(sub_circ.to_instruction())\n",
    "\n",
    "\n",
    "# that's it. We have 4 phase oracles, having on position marked, we will be using one\n",
    "# of them at random below\n",
    "\n",
    "display(Image(filename='./images/cards/4FacesDown.jpeg', width=800))\n",
    "\n",
    "print(\"We have created our own quantum gates,\")\n",
    "print(\"to prepare the state of our QH hidden in any of the four positions\")\n",
    "\n",
    "# uncomment next lines to visualize\n",
    "#q = QuantumRegister(2, 'q')\n",
    "#circ = QuantumCircuit(q)\n",
    "#for i in range(4): \n",
    "#circ.append(hide[i], [q[0], q[1]])\n",
    "#circ.draw(output='mpl')\n"
   ]
  },
  {
   "cell_type": "markdown",
   "metadata": {},
   "source": [
    "### Building the Grover operator, this sub function will be used to reveal the hidden index in one shot"
   ]
  },
  {
   "cell_type": "code",
   "execution_count": null,
   "metadata": {},
   "outputs": [],
   "source": [
    "# Grover operator \n",
    "sub_circ = QuantumCircuit(sub_qr, name='Grover-Op')\n",
    "for i in range(2):\n",
    "    sub_circ.h(sub_qr[i])\n",
    "    sub_circ.x(sub_qr[i])\n",
    "sub_circ.h(sub_qr[1])\n",
    "sub_circ.cx(sub_qr[0], sub_qr[1])\n",
    "sub_circ.h(sub_qr[1])\n",
    "for i in range(2):\n",
    "    sub_circ.x(sub_qr[i])\n",
    "    sub_circ.h(sub_qr[i])\n",
    "\n",
    "# Convert to a gate\n",
    "grover = sub_circ.to_instruction()\n",
    "\n",
    "print(\"We have created our Grover operator on 2 qubits\")\n",
    "print(\" \")\n",
    "print(\"We are ready to go !\")\n",
    "\n",
    "# uncomment next lines to visualize\n",
    "q = QuantumRegister(2, 'q')\n",
    "circ = QuantumCircuit(q)\n",
    "circ.append(grover, [q[0], q[1]])\n",
    "circ.draw(output='mpl')\n",
    "sub_circ.draw(output=\"mpl\")"
   ]
  },
  {
   "cell_type": "markdown",
   "metadata": {},
   "source": [
    "## 2. DRAW A RANDOM POSITION\n",
    "\n",
    "### ... and keep it secret. "
   ]
  },
  {
   "cell_type": "code",
   "execution_count": null,
   "metadata": {},
   "outputs": [],
   "source": [
    "secret = randint(1,4)\n",
    "\n",
    "print(\"Now, the secret position has been chosen, no one knows what it is,\")\n",
    "print(\" \")\n",
    "print(\"Let's first use Grover to find it !\")\n",
    "\n",
    "secret = 1"
   ]
  },
  {
   "cell_type": "markdown",
   "metadata": {},
   "source": [
    "## 3. Now build the circuit: \n",
    "\n",
    "### adding the chosen sub circuit (at random) and the grover operator, then measurement step. \n"
   ]
  },
  {
   "cell_type": "code",
   "execution_count": null,
   "metadata": {},
   "outputs": [],
   "source": [
    "# define needed registers, and our quantum circuit. \n",
    "qr = QuantumRegister(2)    \n",
    "cr = ClassicalRegister(2)\n",
    "\n",
    "circ = QuantumCircuit(qr,cr)\n",
    "\n",
    "circ.h(qr[0])\n",
    "circ.h(qr[1])\n",
    "# use the selected hide gate (determined by random value \"secret\")\n",
    "circ.append(hide[secret], [qr[0],qr[1]])\n",
    "# add grover operator\n",
    "circ.append(grover, [qr[0],qr[1]])\n",
    "# add measuring stage\n",
    "circ.measure(qr,cr)\n",
    "# that's it !\n",
    "circ.draw(output='mpl')"
   ]
  },
  {
   "cell_type": "markdown",
   "metadata": {},
   "source": [
    "## 4. Execute the circuit (on the local simulator) : \n",
    "\n",
    "- choose backend\n",
    "\n",
    "- define job\n",
    "\n",
    "- get result"
   ]
  },
  {
   "cell_type": "code",
   "execution_count": null,
   "metadata": {},
   "outputs": [],
   "source": [
    "from qiskit import Aer\n",
    "#print(Aer.backends())\n",
    "backend = Aer.get_backend('qasm_simulator')\n",
    "# define job, get results\n",
    "job = execute(circ,backend,shots=100)\n",
    "my_result = job.result()\n",
    "d = (my_result.get_counts(circ))\n",
    "\n",
    "max = 0\n",
    "for x in d:\n",
    "    if d[x] > max:\n",
    "        val = x\n",
    "\n",
    "if val == '00': \n",
    "    position = \"first\"\n",
    "if val == '10':\n",
    "    position = \"second\"\n",
    "if val == '01': \n",
    "    position = \"third\"\n",
    "if val == '11': \n",
    "    position = \"fourth\"\n",
    "    \n",
    "print(\" \")\n",
    "print(\"The position found by Grover search algorithm is:\", position)\n"
   ]
  },
  {
   "cell_type": "code",
   "execution_count": null,
   "metadata": {},
   "outputs": [],
   "source": [
    "from qiskit.tools.visualization import plot_histogram\n",
    "# define job, get results\n",
    "job = execute(circ,backend,shots=100)\n",
    "my_result = job.result()\n",
    "d = (my_result.get_counts(circ))\n",
    "\n",
    "plot_histogram(my_result.get_counts(circ))"
   ]
  },
  {
   "cell_type": "markdown",
   "metadata": {},
   "source": [
    "## 5. Reveal what was the hidden position (the index of the data element searched)"
   ]
  },
  {
   "cell_type": "code",
   "execution_count": null,
   "metadata": {
    "scrolled": true
   },
   "outputs": [],
   "source": [
    "print(f\"The hiding position was: {secret}\")\n",
    "print(\"Grover search needed to turn only one card to discover the queen of Hearts: \")\n",
    "\n",
    "filename = './images/cards/QHFaceUPPos'+str(secret)+'.jpeg'\n",
    "\n",
    "display(Image(filename=filename, width=800))\n"
   ]
  },
  {
   "cell_type": "markdown",
   "metadata": {},
   "source": [
    "## You can also run this on a real backend using IBMQ. "
   ]
  },
  {
   "cell_type": "markdown",
   "metadata": {},
   "source": [
    "## Thank you for your attention\n"
   ]
  }
 ],
 "metadata": {
  "kernelspec": {
   "display_name": "Python 3",
   "language": "python",
   "name": "python3"
  },
  "language_info": {
   "codemirror_mode": {
    "name": "ipython",
    "version": 3
   },
   "file_extension": ".py",
   "mimetype": "text/x-python",
   "name": "python",
   "nbconvert_exporter": "python",
   "pygments_lexer": "ipython3",
   "version": "3.8.10"
  }
 },
 "nbformat": 4,
 "nbformat_minor": 2
}
