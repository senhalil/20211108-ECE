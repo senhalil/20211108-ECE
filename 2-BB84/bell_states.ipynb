{
 "cells": [
  {
   "cell_type": "markdown",
   "metadata": {},
   "source": [
    "# Matrices et calculs pour les états de Bell\n",
    "\n",
    "### Jean-Michel Torres, IBM Q Hub France, torresjm@fr.ibm.com\n",
    "\n"
   ]
  },
  {
   "cell_type": "code",
   "execution_count": 1,
   "metadata": {},
   "outputs": [],
   "source": [
    "import numpy as np\n",
    "from math import sqrt"
   ]
  },
  {
   "cell_type": "code",
   "execution_count": 8,
   "metadata": {},
   "outputs": [
    {
     "name": "stdout",
     "output_type": "stream",
     "text": [
      "HoI: \n",
      " [[ 1  0  1  0]\n",
      " [ 0  1  0  1]\n",
      " [ 1  0 -1  0]\n",
      " [ 0  1  0 -1]] \n",
      "\n",
      "Bell: \n",
      " [[ 1  0  1  0]\n",
      " [ 0  1  0  1]\n",
      " [ 0  1  0 -1]\n",
      " [ 1  0 -1  0]] \n",
      "\n",
      "Ket00 : [1. 0. 0. 0.] => Bell 00 : [[1. 0. 0. 1.]]\n",
      "Ket01 : [0. 1. 0. 0.] => Bell 01 : [[0. 1. 1. 0.]]\n",
      "Ket10 : [0. 0. 1. 0.] => Bell 10 : [[ 1.  0.  0. -1.]]\n",
      "Ket11 : [0. 0. 0. 1.] => Bell 11 : [[ 0.  1. -1.  0.]]\n"
     ]
    }
   ],
   "source": [
    "CNOT = np.matrix(((1,0,0,0),(0,1,0,0),(0,0,0,1),(0,0,1,0)))\n",
    "H = np.matrix(((1,1),(1,-1)))\n",
    "I = np.matrix(((1,0),(0,1)))\n",
    "\n",
    "HoI = np.kron(H,I)\n",
    "\n",
    "print(\"HoI: \\n\",HoI, '\\n')\n",
    "Bell = np.matmul(CNOT,HoI)\n",
    "print(\"Bell: \\n\",Bell, '\\n')\n",
    "\n",
    "kets = np.zeros((4,4))\n",
    "np.fill_diagonal(kets,1)\n",
    "\n",
    "\n",
    "bell =[]\n",
    "\n",
    "for i in range(4):\n",
    "    print(f\"Ket{i:0>2b} : {kets[i]} => Bell {i:0>2b} : {np.matmul(Bell,np.transpose(kets[i]))}\")\n",
    "    bell.append(np.matmul(Bell,np.transpose(kets[i])))\n"
   ]
  },
  {
   "cell_type": "code",
   "execution_count": 7,
   "metadata": {},
   "outputs": [
    {
     "name": "stdout",
     "output_type": "stream",
     "text": [
      "[[ 1  0  0  1]\n",
      " [ 0  1  1  0]\n",
      " [ 1  0  0 -1]\n",
      " [ 0  1 -1  0]] \n",
      "\n",
      "Bell00: [[1. 0. 0. 1.]] (ij=00): [[2. 0. 0. 0.]]\n",
      "Bell01: [[0. 1. 1. 0.]] (ij=01): [[0. 2. 0. 0.]]\n",
      "Bell10: [[ 1.  0.  0. -1.]] (ij=10): [[0. 0. 2. 0.]]\n",
      "Bell11: [[ 0.  1. -1.  0.]] (ij=11): [[0. 0. 0. 2.]]\n"
     ]
    }
   ],
   "source": [
    "BellDagger = np.transpose(Bell)\n",
    "print(BellDagger, '\\n')\n",
    "\n",
    "\n",
    "for i in range(4):\n",
    "    print(f\"Bell{i:0>2b}: {bell[i]} (ij={i:0>2b}): {np.transpose(np.matmul(BellDagger,np.transpose(bell[i])))}\")\n"
   ]
  }
 ],
 "metadata": {
  "kernelspec": {
   "display_name": "Python 3",
   "language": "python",
   "name": "python3"
  },
  "language_info": {
   "codemirror_mode": {
    "name": "ipython",
    "version": 3
   },
   "file_extension": ".py",
   "mimetype": "text/x-python",
   "name": "python",
   "nbconvert_exporter": "python",
   "pygments_lexer": "ipython3",
   "version": "3.7.3"
  }
 },
 "nbformat": 4,
 "nbformat_minor": 2
}
